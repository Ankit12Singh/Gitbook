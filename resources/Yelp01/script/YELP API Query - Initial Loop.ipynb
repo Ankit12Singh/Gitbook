{
 "cells": [
  {
   "cell_type": "code",
   "execution_count": 1,
   "metadata": {},
   "outputs": [],
   "source": [
    "import os\n",
    "import pandas as pd\n",
    "import json\n",
    "import time"
   ]
  },
  {
   "cell_type": "code",
   "execution_count": 7,
   "metadata": {},
   "outputs": [
    {
     "name": "stdout",
     "output_type": "stream",
     "text": [
      "Requirement already satisfied: requests in c:\\users\\vuduo\\anaconda3\\lib\\site-packages (2.21.0)\n",
      "Requirement already satisfied: chardet<3.1.0,>=3.0.2 in c:\\users\\vuduo\\anaconda3\\lib\\site-packages (from requests) (3.0.4)\n",
      "Requirement already satisfied: certifi>=2017.4.17 in c:\\users\\vuduo\\anaconda3\\lib\\site-packages (from requests) (2018.11.29)\n",
      "Requirement already satisfied: urllib3<1.25,>=1.21.1 in c:\\users\\vuduo\\anaconda3\\lib\\site-packages (from requests) (1.24.1)\n",
      "Requirement already satisfied: idna<2.9,>=2.5 in c:\\users\\vuduo\\anaconda3\\lib\\site-packages (from requests) (2.8)\n"
     ]
    }
   ],
   "source": [
    "#install requests library\n",
    "!pip install requests"
   ]
  },
  {
   "cell_type": "code",
   "execution_count": 2,
   "metadata": {},
   "outputs": [],
   "source": [
    "from __future__ import print_function\n",
    "import argparse\n",
    "import json\n",
    "import pprint\n",
    "import requests\n",
    "import sys\n",
    "import urllib"
   ]
  },
  {
   "cell_type": "code",
   "execution_count": 3,
   "metadata": {},
   "outputs": [],
   "source": [
    "from urllib.error import HTTPError\n",
    "from urllib.parse import quote\n",
    "from urllib.parse import urlencode"
   ]
  },
  {
   "cell_type": "code",
   "execution_count": 4,
   "metadata": {},
   "outputs": [],
   "source": [
    "#apikey, your apikey\n",
    "API_KEY= 'mTVB4LPIXmpZqi8ZNBzRvdFt21huxCiIOEoT87fZNlqobi6A-GaXh5jp6GPl993oImBhRSG1vxOI5aGcEUzxK66_GI3CZfs4pzW3auH16lvWMXJSCr-dz34NQGy6XHYx'\n",
    "API_KEY2='YeZVTfwaEZN_evAjzsF0u3a6sFX65uj47Sggd_IuPN7J1R6sM_E1H-IyKoK8OjiW3U4VG1_jkxlMxFVj5l9QqWJx9vdk177h4sJpIVF9CXLtombRYrqYezSWFLO6XHYx'"
   ]
  },
  {
   "cell_type": "code",
   "execution_count": 7,
   "metadata": {},
   "outputs": [],
   "source": [
    "# API constants, you shouldn't have to change these.\n",
    "API_HOST = 'https://api.yelp.com'\n",
    "SEARCH_PATH = '/v3/businesses/search'\n",
    "BUSINESS_PATH = '/v3/businesses/'  # Business ID will come after slash."
   ]
  },
  {
   "cell_type": "code",
   "execution_count": 12,
   "metadata": {},
   "outputs": [],
   "source": [
    "def request(host, path, api_key, url_params=None):\n",
    "    \"\"\"Given your API_KEY, send a GET request to the API.\n",
    "    Args:\n",
    "        host (str): The domain host of the API.\n",
    "        path (str): The path of the API after the domain.\n",
    "        API_KEY (str): Your API Key.\n",
    "        url_params (dict): An optional set of query parameters in the request.\n",
    "    Returns:\n",
    "        dict: The JSON response from the request.\n",
    "    Raises:\n",
    "        HTTPError: An error occurs from the HTTP request.\n",
    "    \"\"\"\n",
    "    url_params = url_params or {}\n",
    "    url = '{0}{1}'.format(host, quote(path.encode('utf8')))\n",
    "    headers = {\n",
    "        'Authorization': 'Bearer %s' % api_key,\n",
    "    }\n",
    "\n",
    "    print(u'Querying {0} ...'.format(url))\n",
    "\n",
    "    response = requests.request('GET', url, headers=headers, params=url_params)\n",
    "\n",
    "    return response.json()"
   ]
  },
  {
   "cell_type": "code",
   "execution_count": 13,
   "metadata": {},
   "outputs": [],
   "source": [
    "def searchlatlongall(api_key, term, lat, long):\n",
    "    url_params = {\n",
    "        'term': term.replace(' ', '+'),\n",
    "        'latitude':lat,        \n",
    "        'longitude': long,\n",
    "        'limit': 50,\n",
    "        'radius':1700 #slightly over 1 mile\n",
    "    }\n",
    "    response = request(API_HOST, SEARCH_PATH, api_key, url_params=url_params)\n",
    "    return(response)"
   ]
  },
  {
   "cell_type": "code",
   "execution_count": 25,
   "metadata": {},
   "outputs": [],
   "source": [
    "latlongdata=pd.read_excel('latlongoutputreduced2.xlsx')\n",
    "latlongdata=latlongdata2.reset_index(drop=True)"
   ]
  },
  {
   "cell_type": "code",
   "execution_count": 26,
   "metadata": {},
   "outputs": [
    {
     "data": {
      "text/plain": [
       "10432"
      ]
     },
     "execution_count": 26,
     "metadata": {},
     "output_type": "execute_result"
    }
   ],
   "source": [
    "len(latlongdata)"
   ]
  },
  {
   "cell_type": "code",
   "execution_count": null,
   "metadata": {},
   "outputs": [],
   "source": [
    "countall=[]\n",
    "# The countall table helps us pick out the coordinates, around which there are more than 50 coffee shops. We need to make more requests for these coordinates to get all the records.\n",
    "for x in range(len(latlongdata)):\n",
    "    print(x)\n",
    "    #We try 5 times, if it still does not work, we break\n",
    "    for attempt in range(5):\n",
    "        try:\n",
    "            if x<4500:\n",
    "                response=searchlatlongall(API_KEY,'coffee',latlongdata['lat'][x],latlongdata['long'][x])\n",
    "            else:\n",
    "                response=searchlatlongall(API_KEY2,'coffee',latlongdata['lat'][x],latlongdata['long'][x])\n",
    "            count=response['total']\n",
    "            if not count:\n",
    "                count=0  \n",
    "        except Exception:\n",
    "            time.sleep(5.0)\n",
    "            continue\n",
    "        else:\n",
    "            break\n",
    "    else:\n",
    "        print(\"we failed all the attempts at x=\"+str(x)+\" - deal with the consequences!\")       \n",
    "    if count>0:\n",
    "        #if there is at least one coffee shop, we print the response body.\n",
    "        with open(str(x)+'data.txt', 'w', encoding='utf-8') as f:\n",
    "          json.dump(response, f, ensure_ascii=False)\n",
    "    countall.append((x,count))\n",
    "    time.sleep(2.0)\n",
    "pd.DataFrame(countall,columns=('x','Count')).to_csv('countall.csv')"
   ]
  }
 ],
 "metadata": {
  "kernelspec": {
   "display_name": "Python 3",
   "language": "python",
   "name": "python3"
  },
  "language_info": {
   "codemirror_mode": {
    "name": "ipython",
    "version": 3
   },
   "file_extension": ".py",
   "mimetype": "text/x-python",
   "name": "python",
   "nbconvert_exporter": "python",
   "pygments_lexer": "ipython3",
   "version": "3.7.1"
  }
 },
 "nbformat": 4,
 "nbformat_minor": 2
}
