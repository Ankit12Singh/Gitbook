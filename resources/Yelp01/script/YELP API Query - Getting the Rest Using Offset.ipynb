{
 "cells": [
  {
   "cell_type": "code",
   "execution_count": 2,
   "metadata": {},
   "outputs": [],
   "source": [
    "import os\n",
    "import pandas as pd\n",
    "import json\n",
    "import time"
   ]
  },
  {
   "cell_type": "code",
   "execution_count": 3,
   "metadata": {},
   "outputs": [
    {
     "name": "stdout",
     "output_type": "stream",
     "text": [
      "Requirement already satisfied: requests in c:\\users\\vuduo\\anaconda3\\lib\\site-packages (2.21.0)\n",
      "Requirement already satisfied: urllib3<1.25,>=1.21.1 in c:\\users\\vuduo\\anaconda3\\lib\\site-packages (from requests) (1.24.1)\n",
      "Requirement already satisfied: certifi>=2017.4.17 in c:\\users\\vuduo\\anaconda3\\lib\\site-packages (from requests) (2018.11.29)\n",
      "Requirement already satisfied: chardet<3.1.0,>=3.0.2 in c:\\users\\vuduo\\anaconda3\\lib\\site-packages (from requests) (3.0.4)\n",
      "Requirement already satisfied: idna<2.9,>=2.5 in c:\\users\\vuduo\\anaconda3\\lib\\site-packages (from requests) (2.8)\n"
     ]
    }
   ],
   "source": [
    "#install requests library\n",
    "!pip install requests"
   ]
  },
  {
   "cell_type": "code",
   "execution_count": 4,
   "metadata": {},
   "outputs": [],
   "source": [
    "from __future__ import print_function\n",
    "import argparse\n",
    "import json\n",
    "import pprint\n",
    "import requests\n",
    "import sys\n",
    "import urllib\n",
    "from urllib.error import HTTPError\n",
    "from urllib.parse import quote\n",
    "from urllib.parse import urlencode"
   ]
  },
  {
   "cell_type": "code",
   "execution_count": 4,
   "metadata": {},
   "outputs": [],
   "source": [
    "#apikey\n",
    "API_KEY= "
   ]
  },
  {
   "cell_type": "code",
   "execution_count": 5,
   "metadata": {},
   "outputs": [],
   "source": [
    "# API constants, you shouldn't have to change these.\n",
    "API_HOST = 'https://api.yelp.com'\n",
    "SEARCH_PATH = '/v3/businesses/search'\n",
    "BUSINESS_PATH = '/v3/businesses/'  # Business ID will come after slash."
   ]
  },
  {
   "cell_type": "code",
   "execution_count": 6,
   "metadata": {},
   "outputs": [],
   "source": [
    "# Make all the request functions\n",
    "def request(host, path, api_key, url_params=None):\n",
    "    url_params = url_params or {}\n",
    "    url = '{0}{1}'.format(host, quote(path.encode('utf8')))\n",
    "    headers = {\n",
    "        'Authorization': 'Bearer %s' % api_key,\n",
    "    }\n",
    "\n",
    "    print(u'Querying {0} ...'.format(url))\n",
    "\n",
    "    response = requests.request('GET', url, headers=headers, params=url_params)\n",
    "\n",
    "    return response.json()"
   ]
  },
  {
   "cell_type": "code",
   "execution_count": 7,
   "metadata": {},
   "outputs": [],
   "source": [
    "def searchlatlongoffset(api_key, term, lat, long, offset):\n",
    "    url_params = {\n",
    "        'term': term.replace(' ', '+'),\n",
    "        'latitude':lat,        \n",
    "        'longitude': long,\n",
    "        'offset':offset,\n",
    "        'limit': 50,\n",
    "        'radius':1700 #slightly over 1 mile\n",
    "    }\n",
    "    response = request(API_HOST, SEARCH_PATH, api_key, url_params=url_params)\n",
    "    return(response)"
   ]
  },
  {
   "cell_type": "code",
   "execution_count": 8,
   "metadata": {},
   "outputs": [],
   "source": [
    "latlongover50=pd.read_csv('latlongover50.csv')\n",
    "latlongover50=latlongover50.loc[:,['index','lat','long','Count','no_of_queries']]\n",
    "latlongover50.head()"
   ]
  },
  {
   "cell_type": "code",
   "execution_count": null,
   "metadata": {},
   "outputs": [],
   "source": [
    "latlongover50=latlongover50.loc[:,['index','lat','long','Count','no_of_queries']]\n",
    "latlongover50.head()"
   ]
  },
  {
   "cell_type": "code",
   "execution_count": null,
   "metadata": {
    "scrolled": true
   },
   "outputs": [],
   "source": [
    "for x in range(len(latlongover50)):\n",
    "    index=latlongover50['index'].iloc[x]\n",
    "    print(str(x)+\"-\"+str(latlongover50['Count'].iloc[x]))\n",
    "    for j in range(1,latlongover50['no_of_queries'].iloc[x]):\n",
    "        offsetparam=50*j\n",
    "        for attempt in range(5):\n",
    "            try:\n",
    "                response=searchlatlongoffset(API_KEY3,'coffee',latlongover50['lat'][x],latlongover50['long'][x],offsetparam)\n",
    "            except Exception:\n",
    "                time.sleep(5.0)\n",
    "                continue\n",
    "            else:\n",
    "                break\n",
    "        else:\n",
    "            print(\"we failed all the attempts at x=\"+str(x)+\" - deal with the consequences!\")       \n",
    "        with open(str(index)+'data_'+str(j)+'.txt', 'w', encoding='utf-8') as f:\n",
    "            json.dump(response, f, ensure_ascii=False)\n",
    "        time.sleep(2.0)\n"
   ]
  }
 ],
 "metadata": {
  "kernelspec": {
   "display_name": "Python 3",
   "language": "python",
   "name": "python3"
  },
  "language_info": {
   "codemirror_mode": {
    "name": "ipython",
    "version": 3
   },
   "file_extension": ".py",
   "mimetype": "text/x-python",
   "name": "python",
   "nbconvert_exporter": "python",
   "pygments_lexer": "ipython3",
   "version": "3.7.1"
  }
 },
 "nbformat": 4,
 "nbformat_minor": 2
}
